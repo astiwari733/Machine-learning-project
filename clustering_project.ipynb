{
  "nbformat": 4,
  "nbformat_minor": 0,
  "metadata": {
    "colab": {
      "provenance": [],
      "authorship_tag": "ABX9TyNBXUTZnBx5b3fVf6qKrRhG",
      "include_colab_link": true
    },
    "kernelspec": {
      "name": "python3",
      "display_name": "Python 3"
    },
    "language_info": {
      "name": "python"
    }
  },
  "cells": [
    {
      "cell_type": "markdown",
      "metadata": {
        "id": "view-in-github",
        "colab_type": "text"
      },
      "source": [
        "<a href=\"https://colab.research.google.com/github/astiwari733/Machine-learning-project/blob/main/clustering_project.ipynb\" target=\"_parent\"><img src=\"https://colab.research.google.com/assets/colab-badge.svg\" alt=\"Open In Colab\"/></a>"
      ]
    },
    {
      "cell_type": "markdown",
      "source": [
        "# Clustering\n"
      ],
      "metadata": {
        "id": "kt9IPE9U2oZB"
      }
    },
    {
      "cell_type": "markdown",
      "source": [
        "#Project - Segmenting customers into clusters\n",
        "\n",
        "Perform Customer Segmentation on the transactional data to build an efficient marketing model. This is a transactional data set that contains all the transactions occurring between 01/12/2010 and 09/12/2011 for a registered non-store online retail.\n",
        "\n",
        "Invoice No: Invoice number. Nominal, a 6-digit integral number uniquely assigned to each transaction. If this code starts with the letter 'c', it indicates a cancellation.\n",
        "\n",
        "StockCode: Product (item) code. Nominal, a 5-digit integral number uniquely assigned to each distinct product.\n",
        "\n",
        "Description: Product (item) name. Nominal.\n",
        "\n",
        "Quantity: The quantities of each product (item) per transaction. Numeric.\n",
        "\n",
        "Invoice Date: Invoice Date and time. Numeric, the day and time when each transaction was generated.\n",
        "\n",
        "UnitPrice: Unit price. Numeric, Product price per unit in sterling.\n",
        "\n",
        "CustomerID: Customer number. Nominal, a 5-digit integral number uniquely assigned to each customer.\n",
        "\n",
        "Country: Country name. Nominal, the name of the country where each customer resides."
      ],
      "metadata": {
        "id": "4p46la2j2twe"
      }
    },
    {
      "cell_type": "code",
      "source": [
        "# Importing libraries\n",
        "import pandas as pd\n",
        "import numpy as np\n",
        "import matplotlib.pyplot as plt\n",
        "%matplotlib inline\n",
        "from sklearn.cluster import KMeans\n",
        "import warnings\n",
        "warnings.filterwarnings('ignore')"
      ],
      "metadata": {
        "id": "TegE5GSC2rtv"
      },
      "execution_count": 1,
      "outputs": []
    },
    {
      "cell_type": "code",
      "source": [],
      "metadata": {
        "id": "jSa5a3lZ3F-D"
      },
      "execution_count": null,
      "outputs": []
    },
    {
      "cell_type": "markdown",
      "source": [
        "Loading the dataset"
      ],
      "metadata": {
        "id": "ElOHS3aN3NBh"
      }
    },
    {
      "cell_type": "code",
      "source": [
        "# Reading the dataset\n",
        "data = pd.read_excel('/content/Project 6-Segmenting customers into clusters-Dataset.xlsx')"
      ],
      "metadata": {
        "id": "S0UY5lCz3Ngk"
      },
      "execution_count": 4,
      "outputs": []
    },
    {
      "cell_type": "code",
      "source": [
        "data.head()"
      ],
      "metadata": {
        "colab": {
          "base_uri": "https://localhost:8080/",
          "height": 206
        },
        "id": "_hsc-ENM3Xb2",
        "outputId": "c73b3cea-7b41-459a-f968-3b70ba81f218"
      },
      "execution_count": 5,
      "outputs": [
        {
          "output_type": "execute_result",
          "data": {
            "text/plain": [
              "  InvoiceNo StockCode                          Description  Quantity  \\\n",
              "0    536365    85123A   WHITE HANGING HEART T-LIGHT HOLDER         6   \n",
              "1    536365     71053                  WHITE METAL LANTERN         6   \n",
              "2    536365    84406B       CREAM CUPID HEARTS COAT HANGER         8   \n",
              "3    536365    84029G  KNITTED UNION FLAG HOT WATER BOTTLE         6   \n",
              "4    536365    84029E       RED WOOLLY HOTTIE WHITE HEART.         6   \n",
              "\n",
              "          InvoiceDate  UnitPrice  CustomerID         Country  \n",
              "0 2010-12-01 08:26:00       2.55     17850.0  United Kingdom  \n",
              "1 2010-12-01 08:26:00       3.39     17850.0  United Kingdom  \n",
              "2 2010-12-01 08:26:00       2.75     17850.0  United Kingdom  \n",
              "3 2010-12-01 08:26:00       3.39     17850.0  United Kingdom  \n",
              "4 2010-12-01 08:26:00       3.39     17850.0  United Kingdom  "
            ],
            "text/html": [
              "\n",
              "  <div id=\"df-0f7acfdb-4053-4ed7-b8d0-c177cf144ff9\">\n",
              "    <div class=\"colab-df-container\">\n",
              "      <div>\n",
              "<style scoped>\n",
              "    .dataframe tbody tr th:only-of-type {\n",
              "        vertical-align: middle;\n",
              "    }\n",
              "\n",
              "    .dataframe tbody tr th {\n",
              "        vertical-align: top;\n",
              "    }\n",
              "\n",
              "    .dataframe thead th {\n",
              "        text-align: right;\n",
              "    }\n",
              "</style>\n",
              "<table border=\"1\" class=\"dataframe\">\n",
              "  <thead>\n",
              "    <tr style=\"text-align: right;\">\n",
              "      <th></th>\n",
              "      <th>InvoiceNo</th>\n",
              "      <th>StockCode</th>\n",
              "      <th>Description</th>\n",
              "      <th>Quantity</th>\n",
              "      <th>InvoiceDate</th>\n",
              "      <th>UnitPrice</th>\n",
              "      <th>CustomerID</th>\n",
              "      <th>Country</th>\n",
              "    </tr>\n",
              "  </thead>\n",
              "  <tbody>\n",
              "    <tr>\n",
              "      <th>0</th>\n",
              "      <td>536365</td>\n",
              "      <td>85123A</td>\n",
              "      <td>WHITE HANGING HEART T-LIGHT HOLDER</td>\n",
              "      <td>6</td>\n",
              "      <td>2010-12-01 08:26:00</td>\n",
              "      <td>2.55</td>\n",
              "      <td>17850.0</td>\n",
              "      <td>United Kingdom</td>\n",
              "    </tr>\n",
              "    <tr>\n",
              "      <th>1</th>\n",
              "      <td>536365</td>\n",
              "      <td>71053</td>\n",
              "      <td>WHITE METAL LANTERN</td>\n",
              "      <td>6</td>\n",
              "      <td>2010-12-01 08:26:00</td>\n",
              "      <td>3.39</td>\n",
              "      <td>17850.0</td>\n",
              "      <td>United Kingdom</td>\n",
              "    </tr>\n",
              "    <tr>\n",
              "      <th>2</th>\n",
              "      <td>536365</td>\n",
              "      <td>84406B</td>\n",
              "      <td>CREAM CUPID HEARTS COAT HANGER</td>\n",
              "      <td>8</td>\n",
              "      <td>2010-12-01 08:26:00</td>\n",
              "      <td>2.75</td>\n",
              "      <td>17850.0</td>\n",
              "      <td>United Kingdom</td>\n",
              "    </tr>\n",
              "    <tr>\n",
              "      <th>3</th>\n",
              "      <td>536365</td>\n",
              "      <td>84029G</td>\n",
              "      <td>KNITTED UNION FLAG HOT WATER BOTTLE</td>\n",
              "      <td>6</td>\n",
              "      <td>2010-12-01 08:26:00</td>\n",
              "      <td>3.39</td>\n",
              "      <td>17850.0</td>\n",
              "      <td>United Kingdom</td>\n",
              "    </tr>\n",
              "    <tr>\n",
              "      <th>4</th>\n",
              "      <td>536365</td>\n",
              "      <td>84029E</td>\n",
              "      <td>RED WOOLLY HOTTIE WHITE HEART.</td>\n",
              "      <td>6</td>\n",
              "      <td>2010-12-01 08:26:00</td>\n",
              "      <td>3.39</td>\n",
              "      <td>17850.0</td>\n",
              "      <td>United Kingdom</td>\n",
              "    </tr>\n",
              "  </tbody>\n",
              "</table>\n",
              "</div>\n",
              "      <button class=\"colab-df-convert\" onclick=\"convertToInteractive('df-0f7acfdb-4053-4ed7-b8d0-c177cf144ff9')\"\n",
              "              title=\"Convert this dataframe to an interactive table.\"\n",
              "              style=\"display:none;\">\n",
              "        \n",
              "  <svg xmlns=\"http://www.w3.org/2000/svg\" height=\"24px\"viewBox=\"0 0 24 24\"\n",
              "       width=\"24px\">\n",
              "    <path d=\"M0 0h24v24H0V0z\" fill=\"none\"/>\n",
              "    <path d=\"M18.56 5.44l.94 2.06.94-2.06 2.06-.94-2.06-.94-.94-2.06-.94 2.06-2.06.94zm-11 1L8.5 8.5l.94-2.06 2.06-.94-2.06-.94L8.5 2.5l-.94 2.06-2.06.94zm10 10l.94 2.06.94-2.06 2.06-.94-2.06-.94-.94-2.06-.94 2.06-2.06.94z\"/><path d=\"M17.41 7.96l-1.37-1.37c-.4-.4-.92-.59-1.43-.59-.52 0-1.04.2-1.43.59L10.3 9.45l-7.72 7.72c-.78.78-.78 2.05 0 2.83L4 21.41c.39.39.9.59 1.41.59.51 0 1.02-.2 1.41-.59l7.78-7.78 2.81-2.81c.8-.78.8-2.07 0-2.86zM5.41 20L4 18.59l7.72-7.72 1.47 1.35L5.41 20z\"/>\n",
              "  </svg>\n",
              "      </button>\n",
              "      \n",
              "  <style>\n",
              "    .colab-df-container {\n",
              "      display:flex;\n",
              "      flex-wrap:wrap;\n",
              "      gap: 12px;\n",
              "    }\n",
              "\n",
              "    .colab-df-convert {\n",
              "      background-color: #E8F0FE;\n",
              "      border: none;\n",
              "      border-radius: 50%;\n",
              "      cursor: pointer;\n",
              "      display: none;\n",
              "      fill: #1967D2;\n",
              "      height: 32px;\n",
              "      padding: 0 0 0 0;\n",
              "      width: 32px;\n",
              "    }\n",
              "\n",
              "    .colab-df-convert:hover {\n",
              "      background-color: #E2EBFA;\n",
              "      box-shadow: 0px 1px 2px rgba(60, 64, 67, 0.3), 0px 1px 3px 1px rgba(60, 64, 67, 0.15);\n",
              "      fill: #174EA6;\n",
              "    }\n",
              "\n",
              "    [theme=dark] .colab-df-convert {\n",
              "      background-color: #3B4455;\n",
              "      fill: #D2E3FC;\n",
              "    }\n",
              "\n",
              "    [theme=dark] .colab-df-convert:hover {\n",
              "      background-color: #434B5C;\n",
              "      box-shadow: 0px 1px 3px 1px rgba(0, 0, 0, 0.15);\n",
              "      filter: drop-shadow(0px 1px 2px rgba(0, 0, 0, 0.3));\n",
              "      fill: #FFFFFF;\n",
              "    }\n",
              "  </style>\n",
              "\n",
              "      <script>\n",
              "        const buttonEl =\n",
              "          document.querySelector('#df-0f7acfdb-4053-4ed7-b8d0-c177cf144ff9 button.colab-df-convert');\n",
              "        buttonEl.style.display =\n",
              "          google.colab.kernel.accessAllowed ? 'block' : 'none';\n",
              "\n",
              "        async function convertToInteractive(key) {\n",
              "          const element = document.querySelector('#df-0f7acfdb-4053-4ed7-b8d0-c177cf144ff9');\n",
              "          const dataTable =\n",
              "            await google.colab.kernel.invokeFunction('convertToInteractive',\n",
              "                                                     [key], {});\n",
              "          if (!dataTable) return;\n",
              "\n",
              "          const docLinkHtml = 'Like what you see? Visit the ' +\n",
              "            '<a target=\"_blank\" href=https://colab.research.google.com/notebooks/data_table.ipynb>data table notebook</a>'\n",
              "            + ' to learn more about interactive tables.';\n",
              "          element.innerHTML = '';\n",
              "          dataTable['output_type'] = 'display_data';\n",
              "          await google.colab.output.renderOutput(dataTable, element);\n",
              "          const docLink = document.createElement('div');\n",
              "          docLink.innerHTML = docLinkHtml;\n",
              "          element.appendChild(docLink);\n",
              "        }\n",
              "      </script>\n",
              "    </div>\n",
              "  </div>\n",
              "  "
            ]
          },
          "metadata": {},
          "execution_count": 5
        }
      ]
    },
    {
      "cell_type": "code",
      "source": [
        "data.shape"
      ],
      "metadata": {
        "colab": {
          "base_uri": "https://localhost:8080/"
        },
        "id": "G0tNJocZ345O",
        "outputId": "5724d443-f51d-4236-9dcc-f5d2de218263"
      },
      "execution_count": 6,
      "outputs": [
        {
          "output_type": "execute_result",
          "data": {
            "text/plain": [
              "(541909, 8)"
            ]
          },
          "metadata": {},
          "execution_count": 6
        }
      ]
    },
    {
      "cell_type": "code",
      "source": [],
      "metadata": {
        "id": "NaSr_XWq37Fn"
      },
      "execution_count": null,
      "outputs": []
    },
    {
      "cell_type": "markdown",
      "source": [
        "# Data preprocessing"
      ],
      "metadata": {
        "id": "2u4GVMgD38YJ"
      }
    },
    {
      "cell_type": "markdown",
      "source": [
        "checking missing values"
      ],
      "metadata": {
        "id": "Fm8o96m84CJb"
      }
    },
    {
      "cell_type": "code",
      "source": [
        "# Percentage of missing values in each variable\n",
        "data.isnull().sum()/len(data)*100"
      ],
      "metadata": {
        "colab": {
          "base_uri": "https://localhost:8080/"
        },
        "id": "3arDLI5X3_VQ",
        "outputId": "7ba9f4de-6ccf-4fe6-ed19-2a1fa191e6fb"
      },
      "execution_count": 7,
      "outputs": [
        {
          "output_type": "execute_result",
          "data": {
            "text/plain": [
              "InvoiceNo       0.000000\n",
              "StockCode       0.000000\n",
              "Description     0.268311\n",
              "Quantity        0.000000\n",
              "InvoiceDate     0.000000\n",
              "UnitPrice       0.000000\n",
              "CustomerID     24.926694\n",
              "Country         0.000000\n",
              "dtype: float64"
            ]
          },
          "metadata": {},
          "execution_count": 7
        }
      ]
    },
    {
      "cell_type": "code",
      "source": [
        "# Visualizing ratio of missing values\n",
        "plt.figure(figsize=(5, 5))\n",
        "data.isnull().mean(axis=0).plot.barh()\n",
        "plt.title(\"Ratio of missing values per columns\")\n",
        "plt.show()"
      ],
      "metadata": {
        "colab": {
          "base_uri": "https://localhost:8080/",
          "height": 336
        },
        "id": "XWsfQf5Y4HsZ",
        "outputId": "2235fc09-9ef6-4e61-a6c6-ef915fbb03e3"
      },
      "execution_count": 8,
      "outputs": [
        {
          "output_type": "display_data",
          "data": {
            "text/plain": [
              "<Figure size 360x360 with 1 Axes>"
            ],
            "image/png": "[encoded data removed]"
          },
          "metadata": {
            "needs_background": "light"
          }
        }
      ]
    },
    {
      "cell_type": "code",
      "source": [],
      "metadata": {
        "id": "G8AZDow14LJj"
      },
      "execution_count": null,
      "outputs": []
    },
    {
      "cell_type": "markdown",
      "source": [
        "We can't keep the data without any value in the CustomerID column since we want to classify the customers. So we'll drop the lines with NaN values on the CustomerID column."
      ],
      "metadata": {
        "id": "02JSyhSp4NzY"
      }
    },
    {
      "cell_type": "code",
      "source": [
        "# Dropping the null values from CustomerID column\n",
        "data = data.dropna(subset=[\"CustomerID\"])"
      ],
      "metadata": {
        "id": "VgmsQJeG4OLC"
      },
      "execution_count": 9,
      "outputs": []
    },
    {
      "cell_type": "code",
      "source": [
        "# percentage of missing values in each variable\n",
        "data.isnull().sum()/len(data)*100"
      ],
      "metadata": {
        "colab": {
          "base_uri": "https://localhost:8080/"
        },
        "id": "XlhW3sQx4SOY",
        "outputId": "3119ba10-4822-4623-965c-7bb6fc2c74e7"
      },
      "execution_count": 10,
      "outputs": [
        {
          "output_type": "execute_result",
          "data": {
            "text/plain": [
              "InvoiceNo      0.0\n",
              "StockCode      0.0\n",
              "Description    0.0\n",
              "Quantity       0.0\n",
              "InvoiceDate    0.0\n",
              "UnitPrice      0.0\n",
              "CustomerID     0.0\n",
              "Country        0.0\n",
              "dtype: float64"
            ]
          },
          "metadata": {},
          "execution_count": 10
        }
      ]
    },
    {
      "cell_type": "code",
      "source": [
        "# Ratio of missing values\n",
        "\n",
        "plt.figure(figsize=(5, 5))\n",
        "data.isnull().mean(axis=0).plot.barh()\n",
        "plt.title(\"Ratio of missing values per columns\")\n",
        "plt.show()"
      ],
      "metadata": {
        "colab": {
          "base_uri": "https://localhost:8080/",
          "height": 336
        },
        "id": "MW25Ubc34VDW",
        "outputId": "d7bfa6ca-fe07-41d3-9092-67eb540602d7"
      },
      "execution_count": 11,
      "outputs": [
        {
          "output_type": "display_data",
          "data": {
            "text/plain": [
              "<Figure size 360x360 with 1 Axes>"
            ],
            "image/png": "[encoded data removed]"
          },
          "metadata": {
            "needs_background": "light"
          }
        }
      ]
    },
    {
      "cell_type": "markdown",
      "source": [
        "As we can see after removing null values from the CustomerID variable, null values from the Description variable have also been removed."
      ],
      "metadata": {
        "id": "URvVbmz44c5m"
      }
    },
    {
      "cell_type": "code",
      "source": [],
      "metadata": {
        "id": "NpmhIu124YLb"
      },
      "execution_count": null,
      "outputs": []
    },
    {
      "cell_type": "markdown",
      "source": [
        "# Checking data type of variables"
      ],
      "metadata": {
        "id": "eXOrayAI4hAn"
      }
    },
    {
      "cell_type": "code",
      "source": [
        "# Checking the data types of each feaure\n",
        "data.dtypes"
      ],
      "metadata": {
        "colab": {
          "base_uri": "https://localhost:8080/"
        },
        "id": "vGSP3F274hvW",
        "outputId": "bc481155-dde9-4083-ec41-d582207a3533"
      },
      "execution_count": 12,
      "outputs": [
        {
          "output_type": "execute_result",
          "data": {
            "text/plain": [
              "InvoiceNo              object\n",
              "StockCode              object\n",
              "Description            object\n",
              "Quantity                int64\n",
              "InvoiceDate    datetime64[ns]\n",
              "UnitPrice             float64\n",
              "CustomerID            float64\n",
              "Country                object\n",
              "dtype: object"
            ]
          },
          "metadata": {},
          "execution_count": 12
        }
      ]
    },
    {
      "cell_type": "code",
      "source": [
        "# Since our dataset is containing features `InvoiceNo` and `StockCode` having mixed values as int and str type, we will convert\n",
        "# them to string.\n",
        "data.InvoiceNo = data.InvoiceNo.astype(str)\n",
        "data.StockCode = data.StockCode.astype(str)"
      ],
      "metadata": {
        "id": "DyZbdVut4kIf"
      },
      "execution_count": 13,
      "outputs": []
    },
    {
      "cell_type": "code",
      "source": [
        "# Extracting the Month, Weekday and Hour of the invoice\n",
        "data['InvoiceDate_month'] = data['InvoiceDate'].dt.month\n",
        "data['InvoiceDate_weekday'] = data['InvoiceDate'].dt.weekday\n",
        "data['InvoiceDate_hour'] = data['InvoiceDate'].dt.hour"
      ],
      "metadata": {
        "id": "Jydz2pMd4pZ9"
      },
      "execution_count": 14,
      "outputs": []
    },
    {
      "cell_type": "code",
      "source": [],
      "metadata": {
        "id": "eSIGnIO_4tgc"
      },
      "execution_count": null,
      "outputs": []
    },
    {
      "cell_type": "markdown",
      "source": [
        "Since the InvoiceNo is containing cancelled orders also, we will check the amount of cancelled orders if it is significant or not."
      ],
      "metadata": {
        "id": "L9vc9dGU4v6K"
      }
    },
    {
      "cell_type": "code",
      "source": [
        "# Constucting a groupby dataframe\n",
        "temp = data.groupby(by=['CustomerID', 'InvoiceNo'], as_index=False)['InvoiceDate'].count()\n",
        "number_of_products_per_group = temp.rename(columns = {'InvoiceDate':'Number of products'})"
      ],
      "metadata": {
        "id": "eCk79ugR4wxJ"
      },
      "execution_count": 15,
      "outputs": []
    },
    {
      "cell_type": "code",
      "source": [
        "# Finding the cancelled orders and imputing 1 if it is cancelled otherwise 0.\n",
        "number_of_products_per_group['order_cancelled'] = number_of_products_per_group['InvoiceNo'].apply(lambda x:int('C' in x))\n",
        "\n",
        "# Percent cancelled orders.\n",
        "len(number_of_products_per_group[number_of_products_per_group['order_cancelled']==1])/len(number_of_products_per_group)*100"
      ],
      "metadata": {
        "colab": {
          "base_uri": "https://localhost:8080/"
        },
        "id": "hn96AgVB4zvJ",
        "outputId": "e8629f9b-fcdb-4ae3-fcfb-69c0865dc90e"
      },
      "execution_count": 16,
      "outputs": [
        {
          "output_type": "execute_result",
          "data": {
            "text/plain": [
              "16.466876971608833"
            ]
          },
          "metadata": {},
          "execution_count": 16
        }
      ]
    },
    {
      "cell_type": "code",
      "source": [
        "# Applying lambda function over the whole dataset\n",
        "data['order_cancelled'] = data['InvoiceNo'].apply(lambda x:int('C' in x))"
      ],
      "metadata": {
        "id": "JIXlDw2f424T"
      },
      "execution_count": 17,
      "outputs": []
    },
    {
      "cell_type": "code",
      "source": [
        "# Looking at the cancelled order rows\n",
        "data[data['order_cancelled']==1].head()"
      ],
      "metadata": {
        "colab": {
          "base_uri": "https://localhost:8080/",
          "height": 496
        },
        "id": "-wNYmdEr47J1",
        "outputId": "12d424fd-1f47-45cf-c187-ee4c8c83ea65"
      },
      "execution_count": 18,
      "outputs": [
        {
          "output_type": "execute_result",
          "data": {
            "text/plain": [
              "    InvoiceNo StockCode                       Description  Quantity  \\\n",
              "141   C536379         D                          Discount        -1   \n",
              "154   C536383    35004C   SET OF 3 COLOURED  FLYING DUCKS        -1   \n",
              "235   C536391     22556    PLASTERS IN TIN CIRCUS PARADE        -12   \n",
              "236   C536391     21984  PACK OF 12 PINK PAISLEY TISSUES        -24   \n",
              "237   C536391     21983  PACK OF 12 BLUE PAISLEY TISSUES        -24   \n",
              "\n",
              "            InvoiceDate  UnitPrice  CustomerID         Country  \\\n",
              "141 2010-12-01 09:41:00      27.50     14527.0  United Kingdom   \n",
              "154 2010-12-01 09:49:00       4.65     15311.0  United Kingdom   \n",
              "235 2010-12-01 10:24:00       1.65     17548.0  United Kingdom   \n",
              "236 2010-12-01 10:24:00       0.29     17548.0  United Kingdom   \n",
              "237 2010-12-01 10:24:00       0.29     17548.0  United Kingdom   \n",
              "\n",
              "     InvoiceDate_month  InvoiceDate_weekday  InvoiceDate_hour  order_cancelled  \n",
              "141                 12                    2                 9                1  \n",
              "154                 12                    2                 9                1  \n",
              "235                 12                    2                10                1  \n",
              "236                 12                    2                10                1  \n",
              "237                 12                    2                10                1  "
            ],
            "text/html": [
              "\n",
              "  <div id=\"df-0495ec48-a702-410c-855a-8bc9060ca3b8\">\n",
              "    <div class=\"colab-df-container\">\n",
              "      <div>\n",
              "<style scoped>\n",
              "    .dataframe tbody tr th:only-of-type {\n",
              "        vertical-align: middle;\n",
              "    }\n",
              "\n",
              "    .dataframe tbody tr th {\n",
              "        vertical-align: top;\n",
              "    }\n",
              "\n",
              "    .dataframe thead th {\n",
              "        text-align: right;\n",
              "    }\n",
              "</style>\n",
              "<table border=\"1\" class=\"dataframe\">\n",
              "  <thead>\n",
              "    <tr style=\"text-align: right;\">\n",
              "      <th></th>\n",
              "      <th>InvoiceNo</th>\n",
              "      <th>StockCode</th>\n",
              "      <th>Description</th>\n",
              "      <th>Quantity</th>\n",
              "      <th>InvoiceDate</th>\n",
              "      <th>UnitPrice</th>\n",
              "      <th>CustomerID</th>\n",
              "      <th>Country</th>\n",
              "      <th>InvoiceDate_month</th>\n",
              "      <th>InvoiceDate_weekday</th>\n",
              "      <th>InvoiceDate_hour</th>\n",
              "      <th>order_cancelled</th>\n",
              "    </tr>\n",
              "  </thead>\n",
              "  <tbody>\n",
              "    <tr>\n",
              "      <th>141</th>\n",
              "      <td>C536379</td>\n",
              "      <td>D</td>\n",
              "      <td>Discount</td>\n",
              "      <td>-1</td>\n",
              "      <td>2010-12-01 09:41:00</td>\n",
              "      <td>27.50</td>\n",
              "      <td>14527.0</td>\n",
              "      <td>United Kingdom</td>\n",
              "      <td>12</td>\n",
              "      <td>2</td>\n",
              "      <td>9</td>\n",
              "      <td>1</td>\n",
              "    </tr>\n",
              "    <tr>\n",
              "      <th>154</th>\n",
              "      <td>C536383</td>\n",
              "      <td>35004C</td>\n",
              "      <td>SET OF 3 COLOURED  FLYING DUCKS</td>\n",
              "      <td>-1</td>\n",
              "      <td>2010-12-01 09:49:00</td>\n",
              "      <td>4.65</td>\n",
              "      <td>15311.0</td>\n",
              "      <td>United Kingdom</td>\n",
              "      <td>12</td>\n",
              "      <td>2</td>\n",
              "      <td>9</td>\n",
              "      <td>1</td>\n",
              "    </tr>\n",
              "    <tr>\n",
              "      <th>235</th>\n",
              "      <td>C536391</td>\n",
              "      <td>22556</td>\n",
              "      <td>PLASTERS IN TIN CIRCUS PARADE</td>\n",
              "      <td>-12</td>\n",
              "      <td>2010-12-01 10:24:00</td>\n",
              "      <td>1.65</td>\n",
              "      <td>17548.0</td>\n",
              "      <td>United Kingdom</td>\n",
              "      <td>12</td>\n",
              "      <td>2</td>\n",
              "      <td>10</td>\n",
              "      <td>1</td>\n",
              "    </tr>\n",
              "    <tr>\n",
              "      <th>236</th>\n",
              "      <td>C536391</td>\n",
              "      <td>21984</td>\n",
              "      <td>PACK OF 12 PINK PAISLEY TISSUES</td>\n",
              "      <td>-24</td>\n",
              "      <td>2010-12-01 10:24:00</td>\n",
              "      <td>0.29</td>\n",
              "      <td>17548.0</td>\n",
              "      <td>United Kingdom</td>\n",
              "      <td>12</td>\n",
              "      <td>2</td>\n",
              "      <td>10</td>\n",
              "      <td>1</td>\n",
              "    </tr>\n",
              "    <tr>\n",
              "      <th>237</th>\n",
              "      <td>C536391</td>\n",
              "      <td>21983</td>\n",
              "      <td>PACK OF 12 BLUE PAISLEY TISSUES</td>\n",
              "      <td>-24</td>\n",
              "      <td>2010-12-01 10:24:00</td>\n",
              "      <td>0.29</td>\n",
              "      <td>17548.0</td>\n",
              "      <td>United Kingdom</td>\n",
              "      <td>12</td>\n",
              "      <td>2</td>\n",
              "      <td>10</td>\n",
              "      <td>1</td>\n",
              "    </tr>\n",
              "  </tbody>\n",
              "</table>\n",
              "</div>\n",
              "      <button class=\"colab-df-convert\" onclick=\"convertToInteractive('df-0495ec48-a702-410c-855a-8bc9060ca3b8')\"\n",
              "              title=\"Convert this dataframe to an interactive table.\"\n",
              "              style=\"display:none;\">\n",
              "        \n",
              "  <svg xmlns=\"http://www.w3.org/2000/svg\" height=\"24px\"viewBox=\"0 0 24 24\"\n",
              "       width=\"24px\">\n",
              "    <path d=\"M0 0h24v24H0V0z\" fill=\"none\"/>\n",
              "    <path d=\"M18.56 5.44l.94 2.06.94-2.06 2.06-.94-2.06-.94-.94-2.06-.94 2.06-2.06.94zm-11 1L8.5 8.5l.94-2.06 2.06-.94-2.06-.94L8.5 2.5l-.94 2.06-2.06.94zm10 10l.94 2.06.94-2.06 2.06-.94-2.06-.94-.94-2.06-.94 2.06-2.06.94z\"/><path d=\"M17.41 7.96l-1.37-1.37c-.4-.4-.92-.59-1.43-.59-.52 0-1.04.2-1.43.59L10.3 9.45l-7.72 7.72c-.78.78-.78 2.05 0 2.83L4 21.41c.39.39.9.59 1.41.59.51 0 1.02-.2 1.41-.59l7.78-7.78 2.81-2.81c.8-.78.8-2.07 0-2.86zM5.41 20L4 18.59l7.72-7.72 1.47 1.35L5.41 20z\"/>\n",
              "  </svg>\n",
              "      </button>\n",
              "      \n",
              "  <style>\n",
              "    .colab-df-container {\n",
              "      display:flex;\n",
              "      flex-wrap:wrap;\n",
              "      gap: 12px;\n",
              "    }\n",
              "\n",
              "    .colab-df-convert {\n",
              "      background-color: #E8F0FE;\n",
              "      border: none;\n",
              "      border-radius: 50%;\n",
              "      cursor: pointer;\n",
              "      display: none;\n",
              "      fill: #1967D2;\n",
              "      height: 32px;\n",
              "      padding: 0 0 0 0;\n",
              "      width: 32px;\n",
              "    }\n",
              "\n",
              "    .colab-df-convert:hover {\n",
              "      background-color: #E2EBFA;\n",
              "      box-shadow: 0px 1px 2px rgba(60, 64, 67, 0.3), 0px 1px 3px 1px rgba(60, 64, 67, 0.15);\n",
              "      fill: #174EA6;\n",
              "    }\n",
              "\n",
              "    [theme=dark] .colab-df-convert {\n",
              "      background-color: #3B4455;\n",
              "      fill: #D2E3FC;\n",
              "    }\n",
              "\n",
              "    [theme=dark] .colab-df-convert:hover {\n",
              "      background-color: #434B5C;\n",
              "      box-shadow: 0px 1px 3px 1px rgba(0, 0, 0, 0.15);\n",
              "      filter: drop-shadow(0px 1px 2px rgba(0, 0, 0, 0.3));\n",
              "      fill: #FFFFFF;\n",
              "    }\n",
              "  </style>\n",
              "\n",
              "      <script>\n",
              "        const buttonEl =\n",
              "          document.querySelector('#df-0495ec48-a702-410c-855a-8bc9060ca3b8 button.colab-df-convert');\n",
              "        buttonEl.style.display =\n",
              "          google.colab.kernel.accessAllowed ? 'block' : 'none';\n",
              "\n",
              "        async function convertToInteractive(key) {\n",
              "          const element = document.querySelector('#df-0495ec48-a702-410c-855a-8bc9060ca3b8');\n",
              "          const dataTable =\n",
              "            await google.colab.kernel.invokeFunction('convertToInteractive',\n",
              "                                                     [key], {});\n",
              "          if (!dataTable) return;\n",
              "\n",
              "          const docLinkHtml = 'Like what you see? Visit the ' +\n",
              "            '<a target=\"_blank\" href=https://colab.research.google.com/notebooks/data_table.ipynb>data table notebook</a>'\n",
              "            + ' to learn more about interactive tables.';\n",
              "          element.innerHTML = '';\n",
              "          dataTable['output_type'] = 'display_data';\n",
              "          await google.colab.output.renderOutput(dataTable, element);\n",
              "          const docLink = document.createElement('div');\n",
              "          docLink.innerHTML = docLinkHtml;\n",
              "          element.appendChild(docLink);\n",
              "        }\n",
              "      </script>\n",
              "    </div>\n",
              "  </div>\n",
              "  "
            ]
          },
          "metadata": {},
          "execution_count": 18
        }
      ]
    },
    {
      "cell_type": "code",
      "source": [
        "# Checking the data type\n",
        "data.dtypes"
      ],
      "metadata": {
        "colab": {
          "base_uri": "https://localhost:8080/"
        },
        "id": "HPn2to1n49qL",
        "outputId": "3d8e6a3b-fa78-49db-a35c-c3c8d359d6c7"
      },
      "execution_count": 19,
      "outputs": [
        {
          "output_type": "execute_result",
          "data": {
            "text/plain": [
              "InvoiceNo                      object\n",
              "StockCode                      object\n",
              "Description                    object\n",
              "Quantity                        int64\n",
              "InvoiceDate            datetime64[ns]\n",
              "UnitPrice                     float64\n",
              "CustomerID                    float64\n",
              "Country                        object\n",
              "InvoiceDate_month               int64\n",
              "InvoiceDate_weekday             int64\n",
              "InvoiceDate_hour                int64\n",
              "order_cancelled                 int64\n",
              "dtype: object"
            ]
          },
          "metadata": {},
          "execution_count": 19
        }
      ]
    },
    {
      "cell_type": "code",
      "source": [
        "# dropping the InvoiceDate column as we have extracted the datetime variables.\n",
        "data = data.drop('InvoiceDate', axis = 1)"
      ],
      "metadata": {
        "id": "svfLuFrk5CCS"
      },
      "execution_count": 20,
      "outputs": []
    },
    {
      "cell_type": "code",
      "source": [],
      "metadata": {
        "id": "ODrLl6al5ErD"
      },
      "execution_count": null,
      "outputs": []
    },
    {
      "cell_type": "markdown",
      "source": [
        "# Label encoding the string variables"
      ],
      "metadata": {
        "id": "727q82oc5Hsh"
      }
    },
    {
      "cell_type": "code",
      "source": [
        "# Importing Label Encoder for converting the categorical values to numeric value\n",
        "from sklearn.preprocessing import LabelEncoder"
      ],
      "metadata": {
        "id": "71g7BApA5Idi"
      },
      "execution_count": 21,
      "outputs": []
    },
    {
      "cell_type": "code",
      "source": [
        "# Transforming each feature\n",
        "le = LabelEncoder()\n",
        "label_InvoiceNo = le.fit_transform(data['InvoiceNo'])\n",
        "label_StockCode = le.fit_transform(data['StockCode'])\n",
        "label_Description = le.fit_transform(data['Description'])\n",
        "label_Country = le.fit_transform(data['Country'])"
      ],
      "metadata": {
        "id": "Fvhr-_S15N7T"
      },
      "execution_count": 22,
      "outputs": []
    },
    {
      "cell_type": "code",
      "source": [
        "# Storing the generated label in their respective columns\n",
        "data['InvoiceNo'] = label_InvoiceNo\n",
        "data['StockCode'] = label_StockCode\n",
        "data['Description'] = label_Description\n",
        "data['Country'] = label_Country"
      ],
      "metadata": {
        "id": "BP-1tAL95QVa"
      },
      "execution_count": 23,
      "outputs": []
    },
    {
      "cell_type": "code",
      "source": [],
      "metadata": {
        "id": "N9ouIioO5SnW"
      },
      "execution_count": null,
      "outputs": []
    },
    {
      "cell_type": "markdown",
      "source": [
        "Scaling the data"
      ],
      "metadata": {
        "id": "Bikjrxrq5U1h"
      }
    },
    {
      "cell_type": "code",
      "source": [
        "# Importing Standard Scaler and fitting the scaled data\n",
        "from sklearn.preprocessing import StandardScaler\n",
        "\n",
        "scaler = StandardScaler()\n",
        "\n",
        "data_scaled = scaler.fit_transform(data)"
      ],
      "metadata": {
        "id": "IqPVMIjb5Vd1"
      },
      "execution_count": 24,
      "outputs": []
    },
    {
      "cell_type": "code",
      "source": [
        "# Checking the scaled data\n",
        "pd.DataFrame(data_scaled).describe()"
      ],
      "metadata": {
        "colab": {
          "base_uri": "https://localhost:8080/",
          "height": 344
        },
        "id": "fh1IsEmo5YUg",
        "outputId": "a2b5d893-7d18-41a8-e5d0-099f2070eda1"
      },
      "execution_count": 25,
      "outputs": [
        {
          "output_type": "execute_result",
          "data": {
            "text/plain": [
              "                 0             1             2             3             4   \\\n",
              "count  4.068290e+05  4.068290e+05  4.068290e+05  4.068290e+05  4.068290e+05   \n",
              "mean  -5.365368e-17 -5.952205e-17  3.807455e-18 -4.523536e-18  5.868371e-18   \n",
              "std    1.000001e+00  1.000001e+00  1.000001e+00  1.000001e+00  1.000001e+00   \n",
              "min   -1.792216e+00 -1.863931e+00 -1.858922e+00 -3.257311e+02 -4.992379e-02   \n",
              "25%   -8.808803e-01 -7.538118e-01 -8.095044e-01 -4.045671e-02 -3.189019e-02   \n",
              "50%    6.467571e-02 -6.072778e-02 -3.460664e-02 -2.839365e-02 -2.179138e-02   \n",
              "75%    8.465154e-01  6.311714e-01  8.449574e-01 -2.465022e-04  4.176999e-03   \n",
              "max    2.204154e+00  2.499536e+00  1.717176e+00  3.256341e+02  5.621654e+02   \n",
              "\n",
              "                 5             6             7             8             9   \\\n",
              "count  4.068290e+05  4.068290e+05  4.068290e+05  4.068290e+05  4.068290e+05   \n",
              "mean  -3.051553e-16  3.906659e-16 -2.235570e-18 -1.318986e-16 -1.933768e-16   \n",
              "std    1.000001e+00  1.000001e+00  1.000001e+00  1.000001e+00  1.000001e+00   \n",
              "min   -1.716675e+00 -4.871627e+00 -1.932163e+00 -1.356156e+00 -2.948631e+00   \n",
              "25%   -7.788819e-01  3.223641e-01 -7.622096e-01 -8.358387e-01 -7.603986e-01   \n",
              "50%   -7.918459e-02  3.223641e-01  1.152558e-01 -3.155215e-01  1.148945e-01   \n",
              "75%    8.772823e-01  3.223641e-01  9.927212e-01  7.251129e-01  5.525410e-01   \n",
              "max    1.750299e+00  4.707639e-01  1.285210e+00  1.765747e+00  3.178420e+00   \n",
              "\n",
              "                 10  \n",
              "count  4.068290e+05  \n",
              "mean   2.333376e-17  \n",
              "std    1.000001e+00  \n",
              "min   -1.495949e-01  \n",
              "25%   -1.495949e-01  \n",
              "50%   -1.495949e-01  \n",
              "75%   -1.495949e-01  \n",
              "max    6.684718e+00  "
            ],
            "text/html": [
              "\n",
              "  <div id=\"df-046aa7b7-49de-46cf-ad40-04f795ca1af4\">\n",
              "    <div class=\"colab-df-container\">\n",
              "      <div>\n",
              "<style scoped>\n",
              "    .dataframe tbody tr th:only-of-type {\n",
              "        vertical-align: middle;\n",
              "    }\n",
              "\n",
              "    .dataframe tbody tr th {\n",
              "        vertical-align: top;\n",
              "    }\n",
              "\n",
              "    .dataframe thead th {\n",
              "        text-align: right;\n",
              "    }\n",
              "</style>\n",
              "<table border=\"1\" class=\"dataframe\">\n",
              "  <thead>\n",
              "    <tr style=\"text-align: right;\">\n",
              "      <th></th>\n",
              "      <th>0</th>\n",
              "      <th>1</th>\n",
              "      <th>2</th>\n",
              "      <th>3</th>\n",
              "      <th>4</th>\n",
              "      <th>5</th>\n",
              "      <th>6</th>\n",
              "      <th>7</th>\n",
              "      <th>8</th>\n",
              "      <th>9</th>\n",
              "      <th>10</th>\n",
              "    </tr>\n",
              "  </thead>\n",
              "  <tbody>\n",
              "    <tr>\n",
              "      <th>count</th>\n",
              "      <td>4.068290e+05</td>\n",
              "      <td>4.068290e+05</td>\n",
              "      <td>4.068290e+05</td>\n",
              "      <td>4.068290e+05</td>\n",
              "      <td>4.068290e+05</td>\n",
              "      <td>4.068290e+05</td>\n",
              "      <td>4.068290e+05</td>\n",
              "      <td>4.068290e+05</td>\n",
              "      <td>4.068290e+05</td>\n",
              "      <td>4.068290e+05</td>\n",
              "      <td>4.068290e+05</td>\n",
              "    </tr>\n",
              "    <tr>\n",
              "      <th>mean</th>\n",
              "      <td>-5.365368e-17</td>\n",
              "      <td>-5.952205e-17</td>\n",
              "      <td>3.807455e-18</td>\n",
              "      <td>-4.523536e-18</td>\n",
              "      <td>5.868371e-18</td>\n",
              "      <td>-3.051553e-16</td>\n",
              "      <td>3.906659e-16</td>\n",
              "      <td>-2.235570e-18</td>\n",
              "      <td>-1.318986e-16</td>\n",
              "      <td>-1.933768e-16</td>\n",
              "      <td>2.333376e-17</td>\n",
              "    </tr>\n",
              "    <tr>\n",
              "      <th>std</th>\n",
              "      <td>1.000001e+00</td>\n",
              "      <td>1.000001e+00</td>\n",
              "      <td>1.000001e+00</td>\n",
              "      <td>1.000001e+00</td>\n",
              "      <td>1.000001e+00</td>\n",
              "      <td>1.000001e+00</td>\n",
              "      <td>1.000001e+00</td>\n",
              "      <td>1.000001e+00</td>\n",
              "      <td>1.000001e+00</td>\n",
              "      <td>1.000001e+00</td>\n",
              "      <td>1.000001e+00</td>\n",
              "    </tr>\n",
              "    <tr>\n",
              "      <th>min</th>\n",
              "      <td>-1.792216e+00</td>\n",
              "      <td>-1.863931e+00</td>\n",
              "      <td>-1.858922e+00</td>\n",
              "      <td>-3.257311e+02</td>\n",
              "      <td>-4.992379e-02</td>\n",
              "      <td>-1.716675e+00</td>\n",
              "      <td>-4.871627e+00</td>\n",
              "      <td>-1.932163e+00</td>\n",
              "      <td>-1.356156e+00</td>\n",
              "      <td>-2.948631e+00</td>\n",
              "      <td>-1.495949e-01</td>\n",
              "    </tr>\n",
              "    <tr>\n",
              "      <th>25%</th>\n",
              "      <td>-8.808803e-01</td>\n",
              "      <td>-7.538118e-01</td>\n",
              "      <td>-8.095044e-01</td>\n",
              "      <td>-4.045671e-02</td>\n",
              "      <td>-3.189019e-02</td>\n",
              "      <td>-7.788819e-01</td>\n",
              "      <td>3.223641e-01</td>\n",
              "      <td>-7.622096e-01</td>\n",
              "      <td>-8.358387e-01</td>\n",
              "      <td>-7.603986e-01</td>\n",
              "      <td>-1.495949e-01</td>\n",
              "    </tr>\n",
              "    <tr>\n",
              "      <th>50%</th>\n",
              "      <td>6.467571e-02</td>\n",
              "      <td>-6.072778e-02</td>\n",
              "      <td>-3.460664e-02</td>\n",
              "      <td>-2.839365e-02</td>\n",
              "      <td>-2.179138e-02</td>\n",
              "      <td>-7.918459e-02</td>\n",
              "      <td>3.223641e-01</td>\n",
              "      <td>1.152558e-01</td>\n",
              "      <td>-3.155215e-01</td>\n",
              "      <td>1.148945e-01</td>\n",
              "      <td>-1.495949e-01</td>\n",
              "    </tr>\n",
              "    <tr>\n",
              "      <th>75%</th>\n",
              "      <td>8.465154e-01</td>\n",
              "      <td>6.311714e-01</td>\n",
              "      <td>8.449574e-01</td>\n",
              "      <td>-2.465022e-04</td>\n",
              "      <td>4.176999e-03</td>\n",
              "      <td>8.772823e-01</td>\n",
              "      <td>3.223641e-01</td>\n",
              "      <td>9.927212e-01</td>\n",
              "      <td>7.251129e-01</td>\n",
              "      <td>5.525410e-01</td>\n",
              "      <td>-1.495949e-01</td>\n",
              "    </tr>\n",
              "    <tr>\n",
              "      <th>max</th>\n",
              "      <td>2.204154e+00</td>\n",
              "      <td>2.499536e+00</td>\n",
              "      <td>1.717176e+00</td>\n",
              "      <td>3.256341e+02</td>\n",
              "      <td>5.621654e+02</td>\n",
              "      <td>1.750299e+00</td>\n",
              "      <td>4.707639e-01</td>\n",
              "      <td>1.285210e+00</td>\n",
              "      <td>1.765747e+00</td>\n",
              "      <td>3.178420e+00</td>\n",
              "      <td>6.684718e+00</td>\n",
              "    </tr>\n",
              "  </tbody>\n",
              "</table>\n",
              "</div>\n",
              "      <button class=\"colab-df-convert\" onclick=\"convertToInteractive('df-046aa7b7-49de-46cf-ad40-04f795ca1af4')\"\n",
              "              title=\"Convert this dataframe to an interactive table.\"\n",
              "              style=\"display:none;\">\n",
              "        \n",
              "  <svg xmlns=\"http://www.w3.org/2000/svg\" height=\"24px\"viewBox=\"0 0 24 24\"\n",
              "       width=\"24px\">\n",
              "    <path d=\"M0 0h24v24H0V0z\" fill=\"none\"/>\n",
              "    <path d=\"M18.56 5.44l.94 2.06.94-2.06 2.06-.94-2.06-.94-.94-2.06-.94 2.06-2.06.94zm-11 1L8.5 8.5l.94-2.06 2.06-.94-2.06-.94L8.5 2.5l-.94 2.06-2.06.94zm10 10l.94 2.06.94-2.06 2.06-.94-2.06-.94-.94-2.06-.94 2.06-2.06.94z\"/><path d=\"M17.41 7.96l-1.37-1.37c-.4-.4-.92-.59-1.43-.59-.52 0-1.04.2-1.43.59L10.3 9.45l-7.72 7.72c-.78.78-.78 2.05 0 2.83L4 21.41c.39.39.9.59 1.41.59.51 0 1.02-.2 1.41-.59l7.78-7.78 2.81-2.81c.8-.78.8-2.07 0-2.86zM5.41 20L4 18.59l7.72-7.72 1.47 1.35L5.41 20z\"/>\n",
              "  </svg>\n",
              "      </button>\n",
              "      \n",
              "  <style>\n",
              "    .colab-df-container {\n",
              "      display:flex;\n",
              "      flex-wrap:wrap;\n",
              "      gap: 12px;\n",
              "    }\n",
              "\n",
              "    .colab-df-convert {\n",
              "      background-color: #E8F0FE;\n",
              "      border: none;\n",
              "      border-radius: 50%;\n",
              "      cursor: pointer;\n",
              "      display: none;\n",
              "      fill: #1967D2;\n",
              "      height: 32px;\n",
              "      padding: 0 0 0 0;\n",
              "      width: 32px;\n",
              "    }\n",
              "\n",
              "    .colab-df-convert:hover {\n",
              "      background-color: #E2EBFA;\n",
              "      box-shadow: 0px 1px 2px rgba(60, 64, 67, 0.3), 0px 1px 3px 1px rgba(60, 64, 67, 0.15);\n",
              "      fill: #174EA6;\n",
              "    }\n",
              "\n",
              "    [theme=dark] .colab-df-convert {\n",
              "      background-color: #3B4455;\n",
              "      fill: #D2E3FC;\n",
              "    }\n",
              "\n",
              "    [theme=dark] .colab-df-convert:hover {\n",
              "      background-color: #434B5C;\n",
              "      box-shadow: 0px 1px 3px 1px rgba(0, 0, 0, 0.15);\n",
              "      filter: drop-shadow(0px 1px 2px rgba(0, 0, 0, 0.3));\n",
              "      fill: #FFFFFF;\n",
              "    }\n",
              "  </style>\n",
              "\n",
              "      <script>\n",
              "        const buttonEl =\n",
              "          document.querySelector('#df-046aa7b7-49de-46cf-ad40-04f795ca1af4 button.colab-df-convert');\n",
              "        buttonEl.style.display =\n",
              "          google.colab.kernel.accessAllowed ? 'block' : 'none';\n",
              "\n",
              "        async function convertToInteractive(key) {\n",
              "          const element = document.querySelector('#df-046aa7b7-49de-46cf-ad40-04f795ca1af4');\n",
              "          const dataTable =\n",
              "            await google.colab.kernel.invokeFunction('convertToInteractive',\n",
              "                                                     [key], {});\n",
              "          if (!dataTable) return;\n",
              "\n",
              "          const docLinkHtml = 'Like what you see? Visit the ' +\n",
              "            '<a target=\"_blank\" href=https://colab.research.google.com/notebooks/data_table.ipynb>data table notebook</a>'\n",
              "            + ' to learn more about interactive tables.';\n",
              "          element.innerHTML = '';\n",
              "          dataTable['output_type'] = 'display_data';\n",
              "          await google.colab.output.renderOutput(dataTable, element);\n",
              "          const docLink = document.createElement('div');\n",
              "          docLink.innerHTML = docLinkHtml;\n",
              "          element.appendChild(docLink);\n",
              "        }\n",
              "      </script>\n",
              "    </div>\n",
              "  </div>\n",
              "  "
            ]
          },
          "metadata": {},
          "execution_count": 25
        }
      ]
    },
    {
      "cell_type": "code",
      "source": [],
      "metadata": {
        "id": "JNJ65SMW5c7h"
      },
      "execution_count": null,
      "outputs": []
    },
    {
      "cell_type": "markdown",
      "source": [
        "# Kmeans clustering"
      ],
      "metadata": {
        "id": "7R7oTuyX5foy"
      }
    },
    {
      "cell_type": "code",
      "source": [
        "# Appending the result of inertia in a blank list named SSE, after fitting the scaled data into kmeansfor each number\n",
        "# of clusters.\n",
        "SSE_scaled = []\n",
        "\n",
        "for cluster in range(1,15):\n",
        "    kmeans = KMeans(n_jobs = -1, n_clusters = cluster)\n",
        "    kmeans.fit(data_scaled)\n",
        "    SSE_scaled.append(kmeans.inertia_)"
      ],
      "metadata": {
        "id": "DsYHSq0r5vsq"
      },
      "execution_count": null,
      "outputs": []
    },
    {
      "cell_type": "code",
      "source": [
        "# Creating a dataframe\n",
        "frame_scaled = pd.DataFrame({'Cluster':range(1,15), 'SSE':SSE_scaled})"
      ],
      "metadata": {
        "id": "g_3nn3P25kYh"
      },
      "execution_count": null,
      "outputs": []
    },
    {
      "cell_type": "code",
      "source": [],
      "metadata": {
        "id": "AGOi9cHH52Uc"
      },
      "execution_count": null,
      "outputs": []
    },
    {
      "cell_type": "markdown",
      "source": [
        "Elbow Curve for clusters"
      ],
      "metadata": {
        "id": "skRXqpE0553S"
      }
    },
    {
      "cell_type": "code",
      "source": [
        "# Plotting the Elbow curve\n",
        "plt.figure(figsize=(12,6))\n",
        "plt.plot(frame_scaled['Cluster'], frame_scaled['SSE'], marker='o')\n",
        "plt.xlabel(\"Clusters\")\n",
        "plt.ylabel(\"SSE\")\n",
        "plt.show()"
      ],
      "metadata": {
        "id": "z_plXTZE52YV"
      },
      "execution_count": null,
      "outputs": []
    },
    {
      "cell_type": "markdown",
      "source": [
        "From the above elbow curve, we can observe that the optimum value for number of clusters is 7."
      ],
      "metadata": {
        "id": "aP7g4Pan6FXN"
      }
    },
    {
      "cell_type": "code",
      "source": [
        "# Fitting the data and predicting the clusters\n",
        "kmeans = KMeans(n_jobs = -1, n_clusters = 7)\n",
        "kmeans.fit(data_scaled)\n",
        "pred = kmeans.predict(data_scaled)\n",
        "\n",
        "\n",
        "# predicted clusters\n",
        "pred"
      ],
      "metadata": {
        "id": "--doPVyg52dL"
      },
      "execution_count": null,
      "outputs": []
    },
    {
      "cell_type": "code",
      "source": [
        "# Creating a dataframe of scaled data\n",
        "frame = pd.DataFrame(data_scaled)\n",
        "\n",
        "\n",
        "# Inserting a column name cluster and putting the predicted values of clusters\n",
        "frame['cluster'] = pred\n",
        "\n",
        "\n",
        "# Number of data points allocated to each cluster\n",
        "frame['cluster'].value_counts()"
      ],
      "metadata": {
        "id": "YttddU6352hB"
      },
      "execution_count": null,
      "outputs": []
    },
    {
      "cell_type": "code",
      "source": [
        "# Checking the dataframe with clusters\n",
        "frame.head()"
      ],
      "metadata": {
        "id": "8-RNyJxe52ny"
      },
      "execution_count": null,
      "outputs": []
    },
    {
      "cell_type": "code",
      "source": [],
      "metadata": {
        "id": "5Qd7m6xT52qX"
      },
      "execution_count": null,
      "outputs": []
    },
    {
      "cell_type": "markdown",
      "source": [
        "# After we predicted the clusters for each of the data elements, above dataframe shows that out of the 7 clusters, which data item will belong to which cluster.*"
      ],
      "metadata": {
        "id": "CxQ8QTu66c4f"
      }
    },
    {
      "cell_type": "code",
      "source": [],
      "metadata": {
        "id": "_0bVB21852tO"
      },
      "execution_count": null,
      "outputs": []
    }
  ]
}